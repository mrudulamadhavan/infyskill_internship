{
  "nbformat": 4,
  "nbformat_minor": 0,
  "metadata": {
    "colab": {
      "provenance": []
    },
    "kernelspec": {
      "name": "python3",
      "display_name": "Python 3"
    },
    "language_info": {
      "name": "python"
    }
  },
  "cells": [
    {
      "cell_type": "markdown",
      "source": [
        "# Practice Questions on NumPy"
      ],
      "metadata": {
        "id": "J5Sy3Hy0F8UG"
      }
    },
    {
      "cell_type": "code",
      "execution_count": 1,
      "metadata": {
        "colab": {
          "base_uri": "https://localhost:8080/",
          "height": 0
        },
        "id": "e7FMVnesF3oT",
        "outputId": "594f42a2-d2e3-47d0-ed35-9423a2c3fc63"
      },
      "outputs": [
        {
          "output_type": "stream",
          "name": "stdout",
          "text": [
            "Numpy Array of First 10 Odd Numbers: [ 1  3  5  7  9 11 13 15 17 19]\n"
          ]
        }
      ],
      "source": [
        "# Q1) Create a variable in Python which contains first 10 odd numbers as a numpy sequence.\n",
        "import numpy as np\n",
        "\n",
        "odd_numbers = np.arange(1, 20, step=2)[:10]\n",
        "print(\"Numpy Array of First 10 Odd Numbers:\", odd_numbers)\n"
      ]
    },
    {
      "cell_type": "code",
      "source": [
        "# Q2) Multiply two numpy arrays and return the sum of the elements of the product array.\n",
        "\n",
        "\t\t# Numpy Array 1 : 10 20 30 40 50\n",
        "\n",
        "\t\t# Numpy Array 2 : 2 3 4 5 6\n",
        "\n",
        "import numpy as np\n",
        "\n",
        "array1 = np.array([10, 20, 30, 40, 50])\n",
        "array2 = np.array([2, 3, 4, 5, 6])\n",
        "\n",
        "product_array = array1 * array2\n",
        "sum_of_product = np.sum(product_array)\n",
        "\n",
        "print(\"Product Array:\", product_array)\n",
        "print(\"Sum of Product Array Elements:\", sum_of_product)\n"
      ],
      "metadata": {
        "colab": {
          "base_uri": "https://localhost:8080/",
          "height": 0
        },
        "id": "fzndB3nGGTmO",
        "outputId": "4c82e065-e1a1-48b6-ea6b-4e8a0330a41a"
      },
      "execution_count": 2,
      "outputs": [
        {
          "output_type": "stream",
          "name": "stdout",
          "text": [
            "Product Array: [ 20  60 120 200 300]\n",
            "Sum of Product Array Elements: 700\n"
          ]
        }
      ]
    },
    {
      "cell_type": "markdown",
      "source": [
        "#### **What happens when we give numpy arrays of different length for multiplication operation ?**\n",
        "\n",
        "- When you try to multiply numpy arrays with different lengths, NumPy will attempt to broadcast the arrays to a common shape before performing the multiplication. Broadcasting is a set of rules that allows NumPy to perform element-wise operations on arrays of different shapes. If the arrays cannot be broadcast to a common shape, NumPy will raise a **ValueError.**\n",
        "\n",
        "For example, multiplying a 1D array with a scalar or a 2D array with a 1D array may involve broadcasting, but multiplying arrays with completely incompatible shapes will result in an error."
      ],
      "metadata": {
        "id": "gtpCTQxaHboU"
      }
    },
    {
      "cell_type": "markdown",
      "source": [
        "#### **What is the reason float needs at least 16 bits of memory for each element, why int starts with 8?**\n",
        "- The number of bits required to represent a floating-point number determines its precision. Floats require more bits than integers to represent fractional values accurately. The standard for 32-bit floating-point numbers (single precision) is to use 23 bits for the mantissa (fractional part), 8 bits for the exponent, and 1 bit for the sign. This adds up to 32 bits.\n",
        "\n",
        "- For double-precision floats (64 bits), it's typically 52 bits for the mantissa, 11 bits for the exponent, and 1 bit for the sign, totaling 64 bits.\n",
        "\n",
        "- In contrast, integers don't need as many bits to represent whole numbers, and the size of an integer is determined by the number of bits allocated for it. Common integer sizes include 8, 16, 32, and 64 bits.\n",
        "\n",
        "The choice of the size depends on the range of values you want to represent, and it affects the memory usage and computational efficiency."
      ],
      "metadata": {
        "id": "mQSxdxGKHuBt"
      }
    },
    {
      "cell_type": "markdown",
      "source": [
        "------------------------------------------------------------------------------------------------------------"
      ],
      "metadata": {
        "id": "y9zmNUo5IVAd"
      }
    }
  ]
}